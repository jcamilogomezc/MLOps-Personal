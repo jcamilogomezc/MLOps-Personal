{
 "cells": [
  {
   "cell_type": "markdown",
   "id": "252aa615",
   "metadata": {},
   "source": [
    "# Modelos Predictivos de Palmer Penguins"
   ]
  },
  {
   "cell_type": "markdown",
   "id": "055380d4",
   "metadata": {},
   "source": [
    "## Análisis Exploratorio de Datos (EDA)"
   ]
  },
  {
   "cell_type": "code",
   "execution_count": 3,
   "id": "b9b61e57",
   "metadata": {},
   "outputs": [
    {
     "name": "stdout",
     "output_type": "stream",
     "text": [
      "  species     island  bill_length_mm  bill_depth_mm  flipper_length_mm  \\\n",
      "0  Adelie  Torgersen            39.1           18.7              181.0   \n",
      "1  Adelie  Torgersen            39.5           17.4              186.0   \n",
      "2  Adelie  Torgersen            40.3           18.0              195.0   \n",
      "3  Adelie  Torgersen             NaN            NaN                NaN   \n",
      "4  Adelie  Torgersen            36.7           19.3              193.0   \n",
      "\n",
      "   body_mass_g     sex  year  \n",
      "0       3750.0    male  2007  \n",
      "1       3800.0  female  2007  \n",
      "2       3250.0  female  2007  \n",
      "3          NaN     NaN  2007  \n",
      "4       3450.0  female  2007  \n"
     ]
    },
    {
     "name": "stderr",
     "output_type": "stream",
     "text": [
      "C:\\Users\\Usuario\\AppData\\Roaming\\Python\\Python312\\site-packages\\palmerpenguins\\penguins.py:2: UserWarning: pkg_resources is deprecated as an API. See https://setuptools.pypa.io/en/latest/pkg_resources.html. The pkg_resources package is slated for removal as early as 2025-11-30. Refrain from using this package or pin to Setuptools<81.\n",
      "  import pkg_resources\n"
     ]
    }
   ],
   "source": [
    "import pandas as pd\n",
    "import numpy as np\n",
    "from palmerpenguins import load_penguins\n",
    "\n",
    "# Cargar el conjunto de datos de pingüinos\n",
    "penguins = load_penguins()\n",
    "\n",
    "# Convertir a un DataFrame de pandas\n",
    "df = pd.DataFrame(penguins)\n",
    "\n",
    "# Mostrar las primeras filas del DataFrame\n",
    "print(df.head())"
   ]
  },
  {
   "cell_type": "code",
   "execution_count": 4,
   "id": "37e08fd9",
   "metadata": {},
   "outputs": [
    {
     "name": "stderr",
     "output_type": "stream",
     "text": [
      "C:\\Users\\Usuario\\AppData\\Roaming\\Python\\Python312\\site-packages\\tqdm\\auto.py:21: TqdmWarning: IProgress not found. Please update jupyter and ipywidgets. See https://ipywidgets.readthedocs.io/en/stable/user_install.html\n",
      "  from .autonotebook import tqdm as notebook_tqdm\n"
     ]
    },
    {
     "data": {
      "text/html": [
       "\n",
       "            <div>\n",
       "                <ins><a href=\"https://ydata.ai/register\">Upgrade to ydata-sdk</a></ins>\n",
       "                <p>\n",
       "                    Improve your data and profiling with ydata-sdk, featuring data quality scoring, redundancy detection, outlier identification, text validation, and synthetic data generation.\n",
       "                </p>\n",
       "            </div>\n",
       "            "
      ],
      "text/plain": [
       "<IPython.core.display.HTML object>"
      ]
     },
     "metadata": {},
     "output_type": "display_data"
    },
    {
     "name": "stderr",
     "output_type": "stream",
     "text": [
      "100%|██████████| 8/8 [00:00<00:00, 472.21it/s]0<00:00, 36.27it/s, Describe variable: year]  \n",
      "Summarize dataset: 100%|██████████| 34/34 [00:02<00:00, 14.29it/s, Completed]                                   \n",
      "Generate report structure: 100%|██████████| 1/1 [00:01<00:00,  1.99s/it]\n",
      "Render HTML: 100%|██████████| 1/1 [00:00<00:00,  1.40it/s]\n",
      "Export report to file: 100%|██████████| 1/1 [00:01<00:00,  1.70s/it]\n"
     ]
    }
   ],
   "source": [
    "# Usar ydata-profiling para generar un informe EDA\n",
    "from ydata_profiling import ProfileReport\n",
    "\n",
    "profile = ProfileReport(df, title=\"Penguins Dataset Profiling Report\", explorative=True)\n",
    "# Guardar el informe en un archivo HTML\n",
    "profile.to_file(\"penguins_profiling_report.html\")"
   ]
  },
  {
   "cell_type": "code",
   "execution_count": 5,
   "id": "adf1cc48",
   "metadata": {},
   "outputs": [
    {
     "data": {
      "image/png": "[encoded data removed]",
      "text/plain": [
       "<Figure size 640x480 with 1 Axes>"
      ]
     },
     "metadata": {},
     "output_type": "display_data"
    }
   ],
   "source": [
    "%matplotlib inline\n",
    "import matplotlib.pyplot as plt\n",
    "\n",
    "# Agrupar por especie e isla y contar\n",
    "species_island_counts = df.groupby(['species', 'island']).size().unstack()\n",
    "# Crear un gráfico de barras apiladas\n",
    "species_island_counts.plot(kind='bar', stacked=True)\n",
    "plt.ylabel('Count') # Etiqueta del eje Y\n",
    "plt.title('Penguin Species Distribution by Island') # Título del gráfico\n",
    "plt.show() # Mostrar el gráfico"
   ]
  },
  {
   "cell_type": "markdown",
   "id": "b7cddd13",
   "metadata": {},
   "source": [
    "## Entrenamiento de modelos"
   ]
  },
  {
   "cell_type": "markdown",
   "id": "16ff814e",
   "metadata": {},
   "source": [
    "### Importar Librerías"
   ]
  },
  {
   "cell_type": "code",
   "execution_count": 6,
   "id": "943a8176",
   "metadata": {},
   "outputs": [],
   "source": [
    "from sklearn.model_selection import train_test_split\n",
    "from sklearn.preprocessing import StandardScaler, OneHotEncoder\n",
    "from sklearn.impute import SimpleImputer\n",
    "from sklearn.compose import ColumnTransformer\n",
    "from sklearn.pipeline import Pipeline\n",
    "from sklearn.linear_model import LogisticRegression\n",
    "from sklearn.ensemble import RandomForestClassifier\n",
    "from sklearn.svm import SVC\n",
    "from sklearn.metrics import accuracy_score, classification_report\n",
    "import joblib\n",
    "import os"
   ]
  },
  {
   "cell_type": "markdown",
   "id": "c4687d7b",
   "metadata": {},
   "source": [
    "### Cargar Conjunto de Datos"
   ]
  },
  {
   "cell_type": "code",
   "execution_count": 7,
   "id": "5c244bbc",
   "metadata": {},
   "outputs": [],
   "source": [
    "penguins = load_penguins()\n",
    "# Eliminar filas con valores NaN en la columna 'species'\n",
    "penguins = penguins.dropna(subset=['species'])\n",
    "\n",
    "# Separar características (X) y variable objetivo (y)\n",
    "X = penguins.drop(columns='species')\n",
    "y = penguins['species']\n",
    "\n",
    "# Identificar tipos de columnas\n",
    "numeric_features = ['bill_length_mm', 'bill_depth_mm', 'flipper_length_mm', 'body_mass_g']\n",
    "\n",
    "# características categóricas = ['sex']\n",
    "categorical_features = ['island', 'sex']\n",
    "\n",
    "# Preprocesamiento para datos numéricos\n",
    "numeric_transformer = Pipeline(steps=[\n",
    "    ('imputer', SimpleImputer(strategy='median')), # Imputación de valores faltantes con la mediana\n",
    "    ('scaler', StandardScaler()) # Escalado de características numéricas\n",
    "])\n",
    "\n",
    "# Preprocesamiento para datos categóricos\n",
    "categorical_transformer = Pipeline(steps=[\n",
    "    ('imputer', SimpleImputer(strategy='most_frequent')), # Imputación de valores faltantes con la moda\n",
    "    ('encoder', OneHotEncoder(handle_unknown='ignore')) # Codificación one-hot para variables categóricas\n",
    "])\n",
    "\n",
    "# Combinar preprocesamiento\n",
    "preprocessor = ColumnTransformer(\n",
    "    transformers=[\n",
    "        ('num', numeric_transformer, numeric_features),\n",
    "        ('cat', categorical_transformer, categorical_features)\n",
    "    ]\n",
    ")\n",
    "\n",
    "# Dividir datos en conjuntos de entrenamiento y prueba\n",
    "X_train, X_test, y_train, y_test = train_test_split(\n",
    "    X, y, test_size=0.2, random_state=42, stratify=y\n",
    ")"
   ]
  },
  {
   "cell_type": "markdown",
   "id": "93e16c29",
   "metadata": {},
   "source": [
    "### Crear Modelos"
   ]
  },
  {
   "cell_type": "code",
   "execution_count": 8,
   "id": "46b6290b",
   "metadata": {},
   "outputs": [],
   "source": [
    "# Definir los modelos a entrenar\n",
    "models = {\n",
    "    \"logistic_regression\": LogisticRegression(max_iter=1000),\n",
    "    \"random_forest\": RandomForestClassifier(random_state=42),\n",
    "    \"svc\": SVC(kernel='rbf', probability=True, random_state=42)\n",
    "}"
   ]
  },
  {
   "cell_type": "markdown",
   "id": "d7af8e3a",
   "metadata": {},
   "source": [
    "### Entrenar, evaluar y guardar"
   ]
  },
  {
   "cell_type": "code",
   "execution_count": 9,
   "id": "be59c3bf",
   "metadata": {},
   "outputs": [
    {
     "name": "stdout",
     "output_type": "stream",
     "text": [
      "\n",
      "logistic_regression Accuracy: 1.0000\n",
      "              precision    recall  f1-score   support\n",
      "\n",
      "      Adelie       1.00      1.00      1.00        30\n",
      "   Chinstrap       1.00      1.00      1.00        14\n",
      "      Gentoo       1.00      1.00      1.00        25\n",
      "\n",
      "    accuracy                           1.00        69\n",
      "   macro avg       1.00      1.00      1.00        69\n",
      "weighted avg       1.00      1.00      1.00        69\n",
      "\n",
      "✅ Saved model to ../models/logistic_regression.joblib\n",
      "\n",
      "random_forest Accuracy: 1.0000\n",
      "              precision    recall  f1-score   support\n",
      "\n",
      "      Adelie       1.00      1.00      1.00        30\n",
      "   Chinstrap       1.00      1.00      1.00        14\n",
      "      Gentoo       1.00      1.00      1.00        25\n",
      "\n",
      "    accuracy                           1.00        69\n",
      "   macro avg       1.00      1.00      1.00        69\n",
      "weighted avg       1.00      1.00      1.00        69\n",
      "\n",
      "✅ Saved model to ../models/random_forest.joblib\n",
      "\n",
      "svc Accuracy: 1.0000\n",
      "              precision    recall  f1-score   support\n",
      "\n",
      "      Adelie       1.00      1.00      1.00        30\n",
      "   Chinstrap       1.00      1.00      1.00        14\n",
      "      Gentoo       1.00      1.00      1.00        25\n",
      "\n",
      "    accuracy                           1.00        69\n",
      "   macro avg       1.00      1.00      1.00        69\n",
      "weighted avg       1.00      1.00      1.00        69\n",
      "\n",
      "✅ Saved model to ../models/svc.joblib\n",
      "\n",
      "Model comparison: {'logistic_regression': 1.0, 'random_forest': 1.0, 'svc': 1.0}\n"
     ]
    }
   ],
   "source": [
    "results = {}\n",
    "for name, model in models.items():\n",
    "    clf = Pipeline(steps=[\n",
    "        ('preprocessor', preprocessor),\n",
    "        ('classifier', model)\n",
    "    ])\n",
    "\n",
    "    # Entrenar el modelo\n",
    "    clf.fit(X_train, y_train)\n",
    "    # Realizar predicciones\n",
    "    y_pred = clf.predict(X_test)\n",
    "    # Calcular la precisión\n",
    "    acc = accuracy_score(y_test, y_pred)\n",
    "    results[name] = acc\n",
    "\n",
    "    # Imprimir resultados de evaluación\n",
    "    print(f\"\\n{name} Accuracy: {acc:.4f}\")\n",
    "    print(classification_report(y_test, y_pred))\n",
    "\n",
    "    # Guardar el pipeline completo (preprocesamiento + modelo)\n",
    "    model_path = f\"../models/{name}.joblib\"\n",
    "    joblib.dump(clf, model_path)\n",
    "    print(f\"✅ Saved model to {model_path}\")\n",
    "\n",
    "print(\"\\nModel comparison:\", results)"
   ]
  },
  {
   "cell_type": "markdown",
   "id": "fda67e7f",
   "metadata": {},
   "source": [
    "## Entrenamiento de Nuevos Modelos"
   ]
  },
  {
   "cell_type": "code",
   "execution_count": 10,
   "id": "e7da16d6",
   "metadata": {},
   "outputs": [],
   "source": [
    "from catboost import CatBoostClassifier\n",
    "from sklearn.ensemble import AdaBoostClassifier\n",
    "\n",
    "# Definir nuevos modelos a entrenar\n",
    "new_models = {\n",
    "    \"catboost\": CatBoostClassifier(random_state=42, verbose=False),\n",
    "    \"adaboost\": AdaBoostClassifier(n_estimators=100, random_state=42)\n",
    "}"
   ]
  },
  {
   "cell_type": "code",
   "execution_count": 11,
   "id": "4c19b6c5",
   "metadata": {},
   "outputs": [
    {
     "name": "stdout",
     "output_type": "stream",
     "text": [
      "\n",
      "catboost Accuracy: 1.0000\n",
      "              precision    recall  f1-score   support\n",
      "\n",
      "      Adelie       1.00      1.00      1.00        30\n",
      "   Chinstrap       1.00      1.00      1.00        14\n",
      "      Gentoo       1.00      1.00      1.00        25\n",
      "\n",
      "    accuracy                           1.00        69\n",
      "   macro avg       1.00      1.00      1.00        69\n",
      "weighted avg       1.00      1.00      1.00        69\n",
      "\n",
      "✅ Saved model to ../models/catboost.joblib\n",
      "\n",
      "adaboost Accuracy: 1.0000\n",
      "              precision    recall  f1-score   support\n",
      "\n",
      "      Adelie       1.00      1.00      1.00        30\n",
      "   Chinstrap       1.00      1.00      1.00        14\n",
      "      Gentoo       1.00      1.00      1.00        25\n",
      "\n",
      "    accuracy                           1.00        69\n",
      "   macro avg       1.00      1.00      1.00        69\n",
      "weighted avg       1.00      1.00      1.00        69\n",
      "\n",
      "✅ Saved model to ../models/adaboost.joblib\n",
      "\n",
      "Model comparison: {'catboost': 1.0, 'adaboost': 1.0}\n"
     ]
    }
   ],
   "source": [
    "new_results = {}\n",
    "for name, model in new_models.items():\n",
    "    clf = Pipeline(steps=[\n",
    "        ('preprocessor', preprocessor),\n",
    "        ('classifier', model)\n",
    "    ])\n",
    "\n",
    "    # Entrenar el modelo\n",
    "    clf.fit(X_train, y_train)\n",
    "    # Realizar predicciones\n",
    "    y_pred = clf.predict(X_test)\n",
    "    # Calcular la precisión\n",
    "    acc = accuracy_score(y_test, y_pred)\n",
    "    new_results[name] = acc\n",
    "\n",
    "    # Imprimir resultados de evaluación\n",
    "    print(f\"\\n{name} Accuracy: {acc:.4f}\")\n",
    "    print(classification_report(y_test, y_pred))\n",
    "\n",
    "    # Save the full pipeline (preprocessing + model)\n",
    "    model_path = f\"../models/{name}.joblib\"\n",
    "    joblib.dump(clf, model_path)\n",
    "    print(f\"✅ Saved model to {model_path}\")\n",
    "\n",
    "print(\"\\nModel comparison:\", new_results)"
   ]
  }
 ],
 "metadata": {
  "kernelspec": {
   "display_name": "Python 3",
   "language": "python",
   "name": "python3"
  },
  "language_info": {
   "codemirror_mode": {
    "name": "ipython",
    "version": 3
   },
   "file_extension": ".py",
   "mimetype": "text/x-python",
   "name": "python",
   "nbconvert_exporter": "python",
   "pygments_lexer": "ipython3",
   "version": "3.12.3"
  }
 },
 "nbformat": 4,
 "nbformat_minor": 5
}
